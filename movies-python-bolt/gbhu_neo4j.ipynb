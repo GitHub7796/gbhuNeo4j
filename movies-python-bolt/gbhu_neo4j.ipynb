{
 "cells": [
  {
   "cell_type": "markdown",
   "metadata": {},
   "source": [
    "完整案例"
   ]
  },
  {
   "cell_type": "code",
   "execution_count": 1,
   "metadata": {},
   "outputs": [],
   "source": [
    "from neo4j import GraphDatabase"
   ]
  },
  {
   "cell_type": "code",
   "execution_count": 2,
   "metadata": {},
   "outputs": [],
   "source": [
    "URI = \"bolt://localhost:7687\"\n",
    "AUTH = (\"neo4j\", \"password\")"
   ]
  },
  {
   "cell_type": "code",
   "execution_count": null,
   "metadata": {},
   "outputs": [],
   "source": [
    "# 场景：etl解析\n",
    "# 解析出etl中表的加工逻辑，生成图谱\n",
    "# 思路：创建节点->创建关系"
   ]
  },
  {
   "cell_type": "code",
   "execution_count": 5,
   "metadata": {},
   "outputs": [],
   "source": [
    "# [a,b] 表示 由 a 表生成 b 表\n",
    "etl_table=[\n",
    "    [\"ENTENTPRBSCINFO\",\"ENTENTPRBSCINFOHFS\"],\n",
    "    [\"ENTENTPRBSCINFO\",\"ENTENTPRBSCINFOTMP\"],\n",
    "    [\"ENTENTPRINFOCHNG\",\"ENTENTPRINFOCHNGTMP\"],\n",
    "    [\"ENTINDSYCMRCANLRPTBSCINFO\",\"ENTINDSYCMRCANLRPTBSCINFOHFS\"],\n",
    "    [\"ENTINDSYCMRCANLRPTBSCINFO\",\"ENTINDSYCMRCANLRPTBSCINFOFULI\"],\n",
    "    [\"ENTINDSYCMRCCHTLCOLLINFO\",\"ENTINDSYCMRCCHTLCOLLINFOHFS\"],\n",
    "    [\"ENTINDSYCMRCCHTLCOLLINFO\",\"ENTINDSYCMRCCHTLCOLLINFOTMP\"],\n",
    "    [\"ENTINDSYCMRCENTPRMNSTFINFO\",\"ENTINDSYCMRCENTPRMNSTFINFOHFS\"],\n",
    "    [\"ENTINDSYCMRCENTPRMNSTFINFO\",\"ENTINDSYCMRCENTPRMNSTFINFOTMP\"],\n",
    "    [\"ENTINDSYCMRCENTPRSHRHR\",\"ENTINDSYCMRCENTPRSHRHRHFS\"],\n",
    "    [\"ENTINDSYCMRCENTPRSHRHR\",\"ENTINDSYCMRCENTPRSHRHRTMP\"],\n",
    "    [\"ENTINDSYCMRCEOTYPLDGBSCINFOTMP\",\"ENTINDSYCMRCEOTYPLDGBSCINFOHFS\"],\n",
    "    [\"ENTINDSYCMRCEOTYPLDGBSCINFO\",\"ENTINDSYCMRCEOTYPLDGBSCINFOTMP\"],\n",
    "    [\"ENTINDSYCMRCGRNTSCP\",\"ENTINDSYCMRCGRNTSCPTMP\"],\n",
    "    [\"ENTINDSYCMRCLGLASST\",\"ENTINDSYCMRCLGLASSTSHFS\"],\n",
    "    [\"ENTINDSYCMRCLGLASST\",\"ENTINDSYCMRCLGLASSTTMP\"],\n",
    "    [\"ENTINDSYCMRCMRTGCHNGINFO\",\"ENTINDSYCMRCMRTGCHNGINFOHFS\"],\n",
    "    [\"ENTINDSYCMRCMRTGCHNGINFO\",\"ENTINDSYCMRCMRTGCHNGINFOTMP\"],\n",
    "    [\"ENTINDSYCMRCMRTGRGSTRINFO\",\",ENTINDSYCMRCMRTGRGSTRINFOHFS\"],\n",
    "    [\"ENTINDSYCMRCMRTGRGSTRINFO\",\",ENTINDSYCMRCMRTGRGSTRINFOTMP\"],\n",
    "    [\"ENTINDSYCMRCMRTGGMRTGRINFOTMP\",\",ENTINDSYCMRCMRTGGMRTGRINFOHFS\"],\n",
    "    [\"ENTINDSYCMRCMRTGGMRTGRINFO\",\",ENTINDSYCMRCMRTGGMRTGRINFOTMP\"],\n",
    "]\n"
   ]
  },
  {
   "cell_type": "code",
   "execution_count": 19,
   "metadata": {},
   "outputs": [],
   "source": [
    "# 去重得到节点\n",
    "etl_node=set(elem for inner_list in etl_table for elem in inner_list)\n",
    "etl_relation=etl_table"
   ]
  },
  {
   "cell_type": "code",
   "execution_count": 23,
   "metadata": {},
   "outputs": [
    {
     "name": "stdout",
     "output_type": "stream",
     "text": [
      "Created 0 nodes in 0 ms.\n",
      "Created 0 nodes in 0 ms.\n",
      "Created 0 nodes in 1 ms.\n",
      "Created 0 nodes in 0 ms.\n",
      "Created 0 nodes in 0 ms.\n",
      "Created 0 nodes in 0 ms.\n",
      "Created 0 nodes in 0 ms.\n",
      "Created 0 nodes in 1 ms.\n",
      "Created 0 nodes in 0 ms.\n",
      "Created 0 nodes in 0 ms.\n",
      "Created 0 nodes in 0 ms.\n",
      "Created 0 nodes in 0 ms.\n",
      "Created 0 nodes in 1 ms.\n",
      "Created 0 nodes in 0 ms.\n",
      "Created 0 nodes in 0 ms.\n",
      "Created 0 nodes in 0 ms.\n",
      "Created 0 nodes in 1 ms.\n",
      "Created 0 nodes in 0 ms.\n",
      "Created 0 nodes in 0 ms.\n",
      "Created 0 nodes in 0 ms.\n",
      "Created 0 nodes in 0 ms.\n",
      "Created 0 nodes in 0 ms.\n",
      "Created 0 nodes in 0 ms.\n",
      "Created 0 nodes in 1 ms.\n",
      "Created 0 nodes in 0 ms.\n",
      "Created 0 nodes in 0 ms.\n",
      "Created 0 nodes in 0 ms.\n",
      "Created 0 nodes in 0 ms.\n",
      "Created 0 nodes in 1 ms.\n",
      "Created 0 nodes in 0 ms.\n",
      "Created 0 nodes in 0 ms.\n",
      "Created 0 nodes in 0 ms.\n",
      "Created 0 nodes in 0 ms.\n",
      "Created 0 nodes in 0 ms.\n",
      "Created 0 nodes in 0 ms.\n"
     ]
    }
   ],
   "source": [
    "with GraphDatabase.driver(URI, auth=AUTH) as driver:\n",
    "    try:\n",
    "        # 业务逻辑\n",
    "\n",
    "        # 创建节点\n",
    "        for node in etl_node:\n",
    "            summary = driver.execute_query(\n",
    "                \"\"\"MERGE (a:etl {name:$name})\"\"\", name=node\n",
    "            ).summary\n",
    "            print(\n",
    "                \"Created {nodes_created} nodes in {time} ms.\".format(\n",
    "                    nodes_created=summary.counters.nodes_created,\n",
    "                    time=summary.result_available_after,\n",
    "                )\n",
    "            )\n",
    "        # 创建关系\n",
    "        for from_table, to_table in etl_relation:\n",
    "            parameters={\n",
    "                \"from_table\": from_table,\n",
    "                \"to_table\": to_table,\n",
    "            }\n",
    "            records, summary, keys = driver.execute_query(\n",
    "                \"\"\"\n",
    "                    MATCH (a:etl {name: $from_table})\n",
    "                    MATCH (b:etl {name: $to_table})\n",
    "                    MERGE (a)-[:etl]->(b)\n",
    "                    \"\"\",\n",
    "                parameters_=parameters,\n",
    "                database_=\"neo4j\",\n",
    "            )\n",
    "        pass\n",
    "    except Exception as e:\n",
    "        print(e)\n"
   ]
  }
 ],
 "metadata": {
  "kernelspec": {
   "display_name": ".venv",
   "language": "python",
   "name": "python3"
  },
  "language_info": {
   "codemirror_mode": {
    "name": "ipython",
    "version": 3
   },
   "file_extension": ".py",
   "mimetype": "text/x-python",
   "name": "python",
   "nbconvert_exporter": "python",
   "pygments_lexer": "ipython3",
   "version": "3.11.4"
  }
 },
 "nbformat": 4,
 "nbformat_minor": 2
}

{
 "cells": [
  {
   "cell_type": "code",
   "execution_count": null,
   "metadata": {},
   "outputs": [],
   "source": [
    "# neo4j 3.x\n",
    "# python neo4j-driver 1.7.x"
   ]
  },
  {
   "cell_type": "code",
   "execution_count": null,
   "metadata": {},
   "outputs": [],
   "source": [
    "# neo4j-driver 1.7.6 api:https://neo4j.com/docs/api/python-driver/1.7/\n",
    "# 参考【值得一看】：https://we-yun.com/doc/neo4j-doc/neo4j-pdf/neo4j-driver-manual-3.5-python.pdf"
   ]
  },
  {
   "cell_type": "code",
   "execution_count": 1,
   "metadata": {},
   "outputs": [
    {
     "name": "stdout",
     "output_type": "stream",
     "text": [
      "Collecting neo4j-driver==1.7.6\n",
      "  Downloading neo4j-driver-1.7.6.tar.gz (23 kB)\n",
      "  Installing build dependencies: started\n",
      "  Installing build dependencies: finished with status 'done'\n",
      "  Getting requirements to build wheel: started\n",
      "  Getting requirements to build wheel: finished with status 'done'\n",
      "  Installing backend dependencies: started\n",
      "  Installing backend dependencies: finished with status 'done'\n",
      "  Preparing metadata (pyproject.toml): started\n",
      "  Preparing metadata (pyproject.toml): finished with status 'done'\n",
      "Collecting neobolt~=1.7.15 (from neo4j-driver==1.7.6)\n",
      "  Downloading neobolt-1.7.17.tar.gz (183 kB)\n",
      "     ---------------------------------------- 0.0/183.3 kB ? eta -:--:--\n",
      "     ---------------------------------------- 0.0/183.3 kB ? eta -:--:--\n",
      "     ---------------------------------------- 0.0/183.3 kB ? eta -:--:--\n",
      "     ---------------------------------------- 0.0/183.3 kB ? eta -:--:--\n",
      "     ---------------------------------------- 0.0/183.3 kB ? eta -:--:--\n",
      "     ---------------------------------------- 0.0/183.3 kB ? eta -:--:--\n",
      "     ---------------------------------------- 0.0/183.3 kB ? eta -:--:--\n",
      "     ---------------------------------------- 0.0/183.3 kB ? eta -:--:--\n",
      "     -- ------------------------------------- 10.2/183.3 kB ? eta -:--:--\n",
      "     -- ------------------------------------- 10.2/183.3 kB ? eta -:--:--\n",
      "     -- ------------------------------------- 10.2/183.3 kB ? eta -:--:--\n",
      "     ------ ------------------------------ 30.7/183.3 kB 163.8 kB/s eta 0:00:01\n",
      "     ------ ------------------------------ 30.7/183.3 kB 163.8 kB/s eta 0:00:01\n",
      "     ------ ------------------------------ 30.7/183.3 kB 163.8 kB/s eta 0:00:01\n",
      "     ------ ------------------------------ 30.7/183.3 kB 163.8 kB/s eta 0:00:01\n",
      "     ------ ------------------------------ 30.7/183.3 kB 163.8 kB/s eta 0:00:01\n",
      "     ------ ------------------------------ 30.7/183.3 kB 163.8 kB/s eta 0:00:01\n",
      "     ------ ------------------------------ 30.7/183.3 kB 163.8 kB/s eta 0:00:01\n",
      "     ------ ------------------------------ 30.7/183.3 kB 163.8 kB/s eta 0:00:01\n",
      "     ------ ------------------------------ 30.7/183.3 kB 163.8 kB/s eta 0:00:01\n",
      "     ------ ------------------------------ 30.7/183.3 kB 163.8 kB/s eta 0:00:01\n",
      "     -------- ----------------------------- 41.0/183.3 kB 50.4 kB/s eta 0:00:03\n",
      "     -------- ----------------------------- 41.0/183.3 kB 50.4 kB/s eta 0:00:03\n",
      "     ---------------------- ------------- 112.6/183.3 kB 152.4 kB/s eta 0:00:01\n",
      "     ---------------------- ------------- 112.6/183.3 kB 152.4 kB/s eta 0:00:01\n",
      "     ---------------------------- ------- 143.4/183.3 kB 173.8 kB/s eta 0:00:01\n",
      "     ---------------------------- ------- 143.4/183.3 kB 173.8 kB/s eta 0:00:01\n",
      "     ---------------------------- ------- 143.4/183.3 kB 173.8 kB/s eta 0:00:01\n",
      "     ------------------------------ ----- 153.6/183.3 kB 155.5 kB/s eta 0:00:01\n",
      "     ------------------------------ ----- 153.6/183.3 kB 155.5 kB/s eta 0:00:01\n",
      "     ------------------------------ ----- 153.6/183.3 kB 155.5 kB/s eta 0:00:01\n",
      "     ------------------------------ ----- 153.6/183.3 kB 155.5 kB/s eta 0:00:01\n",
      "     ------------------------------ ----- 153.6/183.3 kB 155.5 kB/s eta 0:00:01\n",
      "     ------------------------------ ----- 153.6/183.3 kB 155.5 kB/s eta 0:00:01\n",
      "     ------------------------------------ 183.3/183.3 kB 140.2 kB/s eta 0:00:00\n",
      "  Installing build dependencies: started\n",
      "  Installing build dependencies: finished with status 'done'\n",
      "  Getting requirements to build wheel: started\n",
      "  Getting requirements to build wheel: finished with status 'done'\n",
      "  Installing backend dependencies: started\n",
      "  Installing backend dependencies: finished with status 'done'\n",
      "  Preparing metadata (pyproject.toml): started\n",
      "  Preparing metadata (pyproject.toml): finished with status 'done'\n",
      "Collecting neotime~=1.7.1 (from neo4j-driver==1.7.6)\n",
      "  Downloading neotime-1.7.4.tar.gz (17 kB)\n",
      "  Installing build dependencies: started\n",
      "  Installing build dependencies: finished with status 'done'\n",
      "  Getting requirements to build wheel: started\n",
      "  Getting requirements to build wheel: finished with status 'done'\n",
      "  Installing backend dependencies: started\n",
      "  Installing backend dependencies: finished with status 'done'\n",
      "  Preparing metadata (pyproject.toml): started\n",
      "  Preparing metadata (pyproject.toml): finished with status 'done'\n",
      "Requirement already satisfied: pytz in c:\\users\\huguobin\\desktop\\gbhucode\\gbhuneo4j\\movies-python-bolt\\.venv\\lib\\site-packages (from neotime~=1.7.1->neo4j-driver==1.7.6) (2024.1)\n",
      "Requirement already satisfied: six in c:\\users\\huguobin\\desktop\\gbhucode\\gbhuneo4j\\movies-python-bolt\\.venv\\lib\\site-packages (from neotime~=1.7.1->neo4j-driver==1.7.6) (1.16.0)\n",
      "Building wheels for collected packages: neo4j-driver, neobolt, neotime\n",
      "  Building wheel for neo4j-driver (pyproject.toml): started\n",
      "  Building wheel for neo4j-driver (pyproject.toml): finished with status 'done'\n",
      "  Created wheel for neo4j-driver: filename=neo4j_driver-1.7.6-py3-none-any.whl size=32639 sha256=782eca0b941953e5e91b124499e543d9495a9a52a01d38b801826c6f92189d9d\n",
      "  Stored in directory: c:\\users\\huguobin\\appdata\\local\\pip\\cache\\wheels\\09\\68\\2b\\fdc98933c64886e37def8ede490fd48a190b50340948769ba8\n",
      "  Building wheel for neobolt (pyproject.toml): started\n",
      "  Building wheel for neobolt (pyproject.toml): finished with status 'done'\n",
      "  Created wheel for neobolt: filename=neobolt-1.7.17-py3-none-any.whl size=37174 sha256=86401f7710b93ad4e9e53912d50b9ab2c3ee1e7eaf8d18337c618c481b61973c\n",
      "  Stored in directory: c:\\users\\huguobin\\appdata\\local\\pip\\cache\\wheels\\f3\\86\\66\\faab2d0d10bb77d82ebd6810dae20fd0866f84d99a6ae86019\n",
      "  Building wheel for neotime (pyproject.toml): started\n",
      "  Building wheel for neotime (pyproject.toml): finished with status 'done'\n",
      "  Created wheel for neotime: filename=neotime-1.7.4-py3-none-any.whl size=20562 sha256=30e53f646f1ed691086924da6f0f94f9ced281ec94165db6ddd24af886263973\n",
      "  Stored in directory: c:\\users\\huguobin\\appdata\\local\\pip\\cache\\wheels\\31\\cf\\5a\\d8e1e0c7910917c9f592a7e16782a40ae6130d7e4d55352f4c\n",
      "Successfully built neo4j-driver neobolt neotime\n",
      "Installing collected packages: neobolt, neotime, neo4j-driver\n",
      "Successfully installed neo4j-driver-1.7.6 neobolt-1.7.17 neotime-1.7.4\n"
     ]
    }
   ],
   "source": [
    "!pip install neo4j-driver==1.7.6"
   ]
  },
  {
   "cell_type": "code",
   "execution_count": 2,
   "metadata": {},
   "outputs": [],
   "source": [
    "from neo4j import GraphDatabase"
   ]
  },
  {
   "cell_type": "code",
   "execution_count": null,
   "metadata": {},
   "outputs": [],
   "source": [
    "class HelloWorldExample(object):\n",
    "    def __init__(self, uri, user, password):\n",
    "        self._driver = c\n",
    "    def close(self):\n",
    "        self._driver.close()\n",
    "    def print_greeting(self, message):\n",
    "        with self._driver.session() as session:\n",
    "            greeting = session.write_transaction(self._create_and_return_greeting, message)\n",
    "            print(greeting)\n",
    "    @staticmethod\n",
    "    def _create_and_return_greeting(tx, message):\n",
    "        result = tx.run(\"CREATE (a:Greeting) \"\n",
    "        \"SET a.message = $message \"\n",
    "        \"RETURN a.message + ', from node ' + id(a)\", message=message)\n",
    "        return result.single()[0]"
   ]
  },
  {
   "cell_type": "code",
   "execution_count": 5,
   "metadata": {},
   "outputs": [
    {
     "ename": "ServiceUnavailable",
     "evalue": "Failed to establish connection to ('127.0.0.1', 7474) (reason [WinError 10061] 由于目标计算机积极拒绝，无法连接。)",
     "output_type": "error",
     "traceback": [
      "\u001b[1;31m---------------------------------------------------------------------------\u001b[0m",
      "\u001b[1;31mConnectionRefusedError\u001b[0m                    Traceback (most recent call last)",
      "File \u001b[1;32mc:\\Users\\huguobin\\Desktop\\gbhuCode\\gbhuNeo4j\\movies-python-bolt\\.venv\\Lib\\site-packages\\neobolt\\direct.py:831\u001b[0m, in \u001b[0;36m_connect\u001b[1;34m(resolved_address, **config)\u001b[0m\n\u001b[0;32m    830\u001b[0m log_debug(\u001b[38;5;124m\"\u001b[39m\u001b[38;5;124m[#0000]  C: <OPEN> \u001b[39m\u001b[38;5;132;01m%s\u001b[39;00m\u001b[38;5;124m\"\u001b[39m, resolved_address)\n\u001b[1;32m--> 831\u001b[0m \u001b[43ms\u001b[49m\u001b[38;5;241;43m.\u001b[39;49m\u001b[43mconnect\u001b[49m\u001b[43m(\u001b[49m\u001b[43mresolved_address\u001b[49m\u001b[43m)\u001b[49m\n\u001b[0;32m    832\u001b[0m s\u001b[38;5;241m.\u001b[39msettimeout(t)\n",
      "\u001b[1;31mConnectionRefusedError\u001b[0m: [WinError 10061] 由于目标计算机积极拒绝，无法连接。",
      "\nDuring handling of the above exception, another exception occurred:\n",
      "\u001b[1;31mServiceUnavailable\u001b[0m                        Traceback (most recent call last)",
      "Cell \u001b[1;32mIn[5], line 5\u001b[0m\n\u001b[0;32m      3\u001b[0m username\u001b[38;5;241m=\u001b[39m\u001b[38;5;124m'\u001b[39m\u001b[38;5;124mneo4j\u001b[39m\u001b[38;5;124m'\u001b[39m\n\u001b[0;32m      4\u001b[0m password\u001b[38;5;241m=\u001b[39m\u001b[38;5;124m'\u001b[39m\u001b[38;5;124mpassword\u001b[39m\u001b[38;5;124m'\u001b[39m\n\u001b[1;32m----> 5\u001b[0m driver\u001b[38;5;241m=\u001b[39m\u001b[43mGraphDatabase\u001b[49m\u001b[38;5;241;43m.\u001b[39;49m\u001b[43mdriver\u001b[49m\u001b[43m(\u001b[49m\u001b[38;5;124;43m\"\u001b[39;49m\u001b[38;5;124;43mbolt://localhost:7474\u001b[39;49m\u001b[38;5;124;43m\"\u001b[39;49m\u001b[43m,\u001b[49m\u001b[43m \u001b[49m\u001b[43mauth\u001b[49m\u001b[38;5;241;43m=\u001b[39;49m\u001b[43m(\u001b[49m\u001b[43musername\u001b[49m\u001b[43m,\u001b[49m\u001b[43m \u001b[49m\u001b[43mpassword\u001b[49m\u001b[43m)\u001b[49m\u001b[43m)\u001b[49m\n",
      "File \u001b[1;32mc:\\Users\\huguobin\\Desktop\\gbhuCode\\gbhuNeo4j\\movies-python-bolt\\.venv\\Lib\\site-packages\\neo4j\\__init__.py:120\u001b[0m, in \u001b[0;36mGraphDatabase.driver\u001b[1;34m(cls, uri, **config)\u001b[0m\n\u001b[0;32m    114\u001b[0m \u001b[38;5;129m@classmethod\u001b[39m\n\u001b[0;32m    115\u001b[0m \u001b[38;5;28;01mdef\u001b[39;00m \u001b[38;5;21mdriver\u001b[39m(\u001b[38;5;28mcls\u001b[39m, uri, \u001b[38;5;241m*\u001b[39m\u001b[38;5;241m*\u001b[39mconfig):\n\u001b[0;32m    116\u001b[0m \u001b[38;5;250m    \u001b[39m\u001b[38;5;124;03m\"\"\" Create a :class:`.Driver` object. Calling this method provides\u001b[39;00m\n\u001b[0;32m    117\u001b[0m \u001b[38;5;124;03m    identical functionality to constructing a :class:`.Driver` or\u001b[39;00m\n\u001b[0;32m    118\u001b[0m \u001b[38;5;124;03m    :class:`.Driver` subclass instance directly.\u001b[39;00m\n\u001b[0;32m    119\u001b[0m \u001b[38;5;124;03m    \"\"\"\u001b[39;00m\n\u001b[1;32m--> 120\u001b[0m     \u001b[38;5;28;01mreturn\u001b[39;00m \u001b[43mDriver\u001b[49m\u001b[43m(\u001b[49m\u001b[43muri\u001b[49m\u001b[43m,\u001b[49m\u001b[43m \u001b[49m\u001b[38;5;241;43m*\u001b[39;49m\u001b[38;5;241;43m*\u001b[39;49m\u001b[43mconfig\u001b[49m\u001b[43m)\u001b[49m\n",
      "File \u001b[1;32mc:\\Users\\huguobin\\Desktop\\gbhuCode\\gbhuNeo4j\\movies-python-bolt\\.venv\\Lib\\site-packages\\neo4j\\__init__.py:161\u001b[0m, in \u001b[0;36mDriver.__new__\u001b[1;34m(cls, uri, **config)\u001b[0m\n\u001b[0;32m    159\u001b[0m \u001b[38;5;28;01mfor\u001b[39;00m subclass \u001b[38;5;129;01min\u001b[39;00m Driver\u001b[38;5;241m.\u001b[39m__subclasses__():\n\u001b[0;32m    160\u001b[0m     \u001b[38;5;28;01mif\u001b[39;00m parsed_scheme \u001b[38;5;129;01min\u001b[39;00m subclass\u001b[38;5;241m.\u001b[39muri_schemes:\n\u001b[1;32m--> 161\u001b[0m         \u001b[38;5;28;01mreturn\u001b[39;00m \u001b[43msubclass\u001b[49m\u001b[43m(\u001b[49m\u001b[43muri\u001b[49m\u001b[43m,\u001b[49m\u001b[43m \u001b[49m\u001b[38;5;241;43m*\u001b[39;49m\u001b[38;5;241;43m*\u001b[39;49m\u001b[43mconfig\u001b[49m\u001b[43m)\u001b[49m\n\u001b[0;32m    162\u001b[0m \u001b[38;5;28;01mraise\u001b[39;00m \u001b[38;5;167;01mValueError\u001b[39;00m(\u001b[38;5;124m\"\u001b[39m\u001b[38;5;124mURI scheme \u001b[39m\u001b[38;5;132;01m%r\u001b[39;00m\u001b[38;5;124m not supported\u001b[39m\u001b[38;5;124m\"\u001b[39m \u001b[38;5;241m%\u001b[39m parsed\u001b[38;5;241m.\u001b[39mscheme)\n",
      "File \u001b[1;32mc:\\Users\\huguobin\\Desktop\\gbhuCode\\gbhuNeo4j\\movies-python-bolt\\.venv\\Lib\\site-packages\\neo4j\\__init__.py:235\u001b[0m, in \u001b[0;36mDirectDriver.__new__\u001b[1;34m(cls, uri, **config)\u001b[0m\n\u001b[0;32m    232\u001b[0m     \u001b[38;5;28;01mreturn\u001b[39;00m connect(address, \u001b[38;5;241m*\u001b[39m\u001b[38;5;241m*\u001b[39m\u001b[38;5;28mdict\u001b[39m(config, \u001b[38;5;241m*\u001b[39m\u001b[38;5;241m*\u001b[39mkwargs))\n\u001b[0;32m    234\u001b[0m pool \u001b[38;5;241m=\u001b[39m ConnectionPool(connector, instance\u001b[38;5;241m.\u001b[39maddress, \u001b[38;5;241m*\u001b[39m\u001b[38;5;241m*\u001b[39mconfig)\n\u001b[1;32m--> 235\u001b[0m pool\u001b[38;5;241m.\u001b[39mrelease(\u001b[43mpool\u001b[49m\u001b[38;5;241;43m.\u001b[39;49m\u001b[43macquire\u001b[49m\u001b[43m(\u001b[49m\u001b[43m)\u001b[49m)\n\u001b[0;32m    236\u001b[0m instance\u001b[38;5;241m.\u001b[39m_pool \u001b[38;5;241m=\u001b[39m pool\n\u001b[0;32m    237\u001b[0m instance\u001b[38;5;241m.\u001b[39m_max_retry_time \u001b[38;5;241m=\u001b[39m config\u001b[38;5;241m.\u001b[39mget(\u001b[38;5;124m\"\u001b[39m\u001b[38;5;124mmax_retry_time\u001b[39m\u001b[38;5;124m\"\u001b[39m, default_config[\u001b[38;5;124m\"\u001b[39m\u001b[38;5;124mmax_retry_time\u001b[39m\u001b[38;5;124m\"\u001b[39m])\n",
      "File \u001b[1;32mc:\\Users\\huguobin\\Desktop\\gbhuCode\\gbhuNeo4j\\movies-python-bolt\\.venv\\Lib\\site-packages\\neobolt\\direct.py:715\u001b[0m, in \u001b[0;36mConnectionPool.acquire\u001b[1;34m(self, access_mode)\u001b[0m\n\u001b[0;32m    714\u001b[0m \u001b[38;5;28;01mdef\u001b[39;00m \u001b[38;5;21macquire\u001b[39m(\u001b[38;5;28mself\u001b[39m, access_mode\u001b[38;5;241m=\u001b[39m\u001b[38;5;28;01mNone\u001b[39;00m):\n\u001b[1;32m--> 715\u001b[0m     \u001b[38;5;28;01mreturn\u001b[39;00m \u001b[38;5;28;43mself\u001b[39;49m\u001b[38;5;241;43m.\u001b[39;49m\u001b[43macquire_direct\u001b[49m\u001b[43m(\u001b[49m\u001b[38;5;28;43mself\u001b[39;49m\u001b[38;5;241;43m.\u001b[39;49m\u001b[43maddress\u001b[49m\u001b[43m)\u001b[49m\n",
      "File \u001b[1;32mc:\\Users\\huguobin\\Desktop\\gbhuCode\\gbhuNeo4j\\movies-python-bolt\\.venv\\Lib\\site-packages\\neobolt\\direct.py:608\u001b[0m, in \u001b[0;36mAbstractConnectionPool.acquire_direct\u001b[1;34m(self, address)\u001b[0m\n\u001b[0;32m    606\u001b[0m \u001b[38;5;28;01mif\u001b[39;00m can_create_new_connection:\n\u001b[0;32m    607\u001b[0m     \u001b[38;5;28;01mtry\u001b[39;00m:\n\u001b[1;32m--> 608\u001b[0m         connection \u001b[38;5;241m=\u001b[39m \u001b[38;5;28;43mself\u001b[39;49m\u001b[38;5;241;43m.\u001b[39;49m\u001b[43mconnector\u001b[49m\u001b[43m(\u001b[49m\u001b[43maddress\u001b[49m\u001b[43m,\u001b[49m\u001b[43m \u001b[49m\u001b[43merror_handler\u001b[49m\u001b[38;5;241;43m=\u001b[39;49m\u001b[38;5;28;43mself\u001b[39;49m\u001b[38;5;241;43m.\u001b[39;49m\u001b[43mconnection_error_handler\u001b[49m\u001b[43m)\u001b[49m\n\u001b[0;32m    609\u001b[0m     \u001b[38;5;28;01mexcept\u001b[39;00m ServiceUnavailable:\n\u001b[0;32m    610\u001b[0m         \u001b[38;5;28mself\u001b[39m\u001b[38;5;241m.\u001b[39mremove(address)\n",
      "File \u001b[1;32mc:\\Users\\huguobin\\Desktop\\gbhuCode\\gbhuNeo4j\\movies-python-bolt\\.venv\\Lib\\site-packages\\neo4j\\__init__.py:232\u001b[0m, in \u001b[0;36mDirectDriver.__new__.<locals>.connector\u001b[1;34m(address, **kwargs)\u001b[0m\n\u001b[0;32m    231\u001b[0m \u001b[38;5;28;01mdef\u001b[39;00m \u001b[38;5;21mconnector\u001b[39m(address, \u001b[38;5;241m*\u001b[39m\u001b[38;5;241m*\u001b[39mkwargs):\n\u001b[1;32m--> 232\u001b[0m     \u001b[38;5;28;01mreturn\u001b[39;00m \u001b[43mconnect\u001b[49m\u001b[43m(\u001b[49m\u001b[43maddress\u001b[49m\u001b[43m,\u001b[49m\u001b[43m \u001b[49m\u001b[38;5;241;43m*\u001b[39;49m\u001b[38;5;241;43m*\u001b[39;49m\u001b[38;5;28;43mdict\u001b[39;49m\u001b[43m(\u001b[49m\u001b[43mconfig\u001b[49m\u001b[43m,\u001b[49m\u001b[43m \u001b[49m\u001b[38;5;241;43m*\u001b[39;49m\u001b[38;5;241;43m*\u001b[39;49m\u001b[43mkwargs\u001b[49m\u001b[43m)\u001b[49m\u001b[43m)\u001b[49m\n",
      "File \u001b[1;32mc:\\Users\\huguobin\\Desktop\\gbhuCode\\gbhuNeo4j\\movies-python-bolt\\.venv\\Lib\\site-packages\\neobolt\\direct.py:972\u001b[0m, in \u001b[0;36mconnect\u001b[1;34m(address, **config)\u001b[0m\n\u001b[0;32m    970\u001b[0m     \u001b[38;5;28;01mraise\u001b[39;00m ServiceUnavailable(\u001b[38;5;124m\"\u001b[39m\u001b[38;5;124mFailed to resolve addresses for \u001b[39m\u001b[38;5;132;01m%s\u001b[39;00m\u001b[38;5;124m\"\u001b[39m \u001b[38;5;241m%\u001b[39m address)\n\u001b[0;32m    971\u001b[0m \u001b[38;5;28;01melse\u001b[39;00m:\n\u001b[1;32m--> 972\u001b[0m     \u001b[38;5;28;01mraise\u001b[39;00m last_error\n",
      "File \u001b[1;32mc:\\Users\\huguobin\\Desktop\\gbhuCode\\gbhuNeo4j\\movies-python-bolt\\.venv\\Lib\\site-packages\\neobolt\\direct.py:962\u001b[0m, in \u001b[0;36mconnect\u001b[1;34m(address, **config)\u001b[0m\n\u001b[0;32m    960\u001b[0m \u001b[38;5;28;01mtry\u001b[39;00m:\n\u001b[0;32m    961\u001b[0m     host \u001b[38;5;241m=\u001b[39m address[\u001b[38;5;241m0\u001b[39m]\n\u001b[1;32m--> 962\u001b[0m     s \u001b[38;5;241m=\u001b[39m \u001b[43m_connect\u001b[49m\u001b[43m(\u001b[49m\u001b[43mresolved_address\u001b[49m\u001b[43m,\u001b[49m\u001b[43m \u001b[49m\u001b[38;5;241;43m*\u001b[39;49m\u001b[38;5;241;43m*\u001b[39;49m\u001b[43mconfig\u001b[49m\u001b[43m)\u001b[49m\n\u001b[0;32m    963\u001b[0m     s, der_encoded_server_certificate \u001b[38;5;241m=\u001b[39m _secure(s, host, security_plan\u001b[38;5;241m.\u001b[39mssl_context, \u001b[38;5;241m*\u001b[39m\u001b[38;5;241m*\u001b[39mconfig)\n\u001b[0;32m    964\u001b[0m     connection \u001b[38;5;241m=\u001b[39m _handshake(s, address, der_encoded_server_certificate, \u001b[38;5;241m*\u001b[39m\u001b[38;5;241m*\u001b[39mconfig)\n",
      "File \u001b[1;32mc:\\Users\\huguobin\\Desktop\\gbhuCode\\gbhuNeo4j\\movies-python-bolt\\.venv\\Lib\\site-packages\\neobolt\\direct.py:843\u001b[0m, in \u001b[0;36m_connect\u001b[1;34m(resolved_address, **config)\u001b[0m\n\u001b[0;32m    841\u001b[0m     log_debug(\u001b[38;5;124m\"\u001b[39m\u001b[38;5;124m[#0000]  C: <CLOSE> \u001b[39m\u001b[38;5;132;01m%s\u001b[39;00m\u001b[38;5;124m\"\u001b[39m, resolved_address)\n\u001b[0;32m    842\u001b[0m     s\u001b[38;5;241m.\u001b[39mclose()\n\u001b[1;32m--> 843\u001b[0m     \u001b[38;5;28;01mraise\u001b[39;00m ServiceUnavailable(\u001b[38;5;124m\"\u001b[39m\u001b[38;5;124mFailed to establish connection to \u001b[39m\u001b[38;5;132;01m{!r}\u001b[39;00m\u001b[38;5;124m (reason \u001b[39m\u001b[38;5;132;01m{}\u001b[39;00m\u001b[38;5;124m)\u001b[39m\u001b[38;5;124m\"\u001b[39m\u001b[38;5;241m.\u001b[39mformat(resolved_address, error))\n\u001b[0;32m    844\u001b[0m \u001b[38;5;28;01melse\u001b[39;00m:\n\u001b[0;32m    845\u001b[0m     \u001b[38;5;28;01mreturn\u001b[39;00m s\n",
      "\u001b[1;31mServiceUnavailable\u001b[0m: Failed to establish connection to ('127.0.0.1', 7474) (reason [WinError 10061] 由于目标计算机积极拒绝，无法连接。)"
     ]
    }
   ],
   "source": [
    "# 创建连接\n",
    "url=\"bolt://localhost:7687\"\n",
    "username='neo4j'\n",
    "password='password'\n",
    "driver=GraphDatabase.driver(url, auth=(username, password))"
   ]
  },
  {
   "cell_type": "code",
   "execution_count": null,
   "metadata": {},
   "outputs": [],
   "source": []
  },
  {
   "cell_type": "code",
   "execution_count": null,
   "metadata": {},
   "outputs": [],
   "source": [
    "def create_person_node(tx, name):\n",
    "    return tx.run(\"CREATE (a:Person {name: $name}) RETURN id(a)\", name=name).single().value()\n",
    "with driver.session() as session:\n",
    "    session.write_transaction(create_person_node, name)"
   ]
  },
  {
   "cell_type": "code",
   "execution_count": null,
   "metadata": {},
   "outputs": [],
   "source": [
    "# Transaction functions style\n",
    "\n",
    "def add_person(driver, name):\n",
    "    # 推荐在 session 中 使用 transaction 进行操作\n",
    "    with driver.session() as session:\n",
    "    # Caller for transactional unit of work\n",
    "        return session.write_transaction(create_person_node, name)\n",
    "\n",
    "# Simple implementation of the unit of work\n",
    "def create_person_node(tx, name):\n",
    "    return tx.run(\"CREATE (a:Person {name: $name}) RETURN id(a)\", name=name).single().value()\n",
    "\n",
    "# Alternative implementation, with timeout\n",
    "@unit_of_work(timeout=0.5)\n",
    "def create_person_node_within_half_a_second(tx, name):\n",
    "    return tx.run(\"CREATE (a:Person {name: $name}) RETURN id(a)\", name=name).single().value()"
   ]
  }
 ],
 "metadata": {
  "kernelspec": {
   "display_name": ".venv",
   "language": "python",
   "name": "python3"
  },
  "language_info": {
   "codemirror_mode": {
    "name": "ipython",
    "version": 3
   },
   "file_extension": ".py",
   "mimetype": "text/x-python",
   "name": "python",
   "nbconvert_exporter": "python",
   "pygments_lexer": "ipython3",
   "version": "3.12.1"
  }
 },
 "nbformat": 4,
 "nbformat_minor": 2
}

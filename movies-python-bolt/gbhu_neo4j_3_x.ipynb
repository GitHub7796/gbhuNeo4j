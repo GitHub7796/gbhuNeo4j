{
 "cells": [
  {
   "cell_type": "code",
   "execution_count": null,
   "metadata": {},
   "outputs": [],
   "source": [
    "# minimal example\n",
    "# neo4j 3.x\n",
    "# python neo4j-driver 1.7.x"
   ]
  },
  {
   "cell_type": "code",
   "execution_count": null,
   "metadata": {},
   "outputs": [],
   "source": [
    "# neo4j-driver 1.7.6 api:https://neo4j.com/docs/api/python-driver/1.7/\n",
    "# 参考【值得一看】：https://we-yun.com/doc/neo4j-doc/neo4j-pdf/neo4j-driver-manual-3.5-python.pdf"
   ]
  },
  {
   "cell_type": "code",
   "execution_count": 1,
   "metadata": {},
   "outputs": [
    {
     "name": "stdout",
     "output_type": "stream",
     "text": [
      "Collecting neo4j-driver==1.7.6\n",
      "  Downloading neo4j-driver-1.7.6.tar.gz (23 kB)\n",
      "  Installing build dependencies: started\n",
      "  Installing build dependencies: finished with status 'done'\n",
      "  Getting requirements to build wheel: started\n",
      "  Getting requirements to build wheel: finished with status 'done'\n",
      "  Installing backend dependencies: started\n",
      "  Installing backend dependencies: finished with status 'done'\n",
      "  Preparing metadata (pyproject.toml): started\n",
      "  Preparing metadata (pyproject.toml): finished with status 'done'\n",
      "Collecting neobolt~=1.7.15 (from neo4j-driver==1.7.6)\n",
      "  Downloading neobolt-1.7.17.tar.gz (183 kB)\n",
      "     ---------------------------------------- 0.0/183.3 kB ? eta -:--:--\n",
      "     ---------------------------------------- 0.0/183.3 kB ? eta -:--:--\n",
      "     ---------------------------------------- 0.0/183.3 kB ? eta -:--:--\n",
      "     ---------------------------------------- 0.0/183.3 kB ? eta -:--:--\n",
      "     ---------------------------------------- 0.0/183.3 kB ? eta -:--:--\n",
      "     ---------------------------------------- 0.0/183.3 kB ? eta -:--:--\n",
      "     ---------------------------------------- 0.0/183.3 kB ? eta -:--:--\n",
      "     ---------------------------------------- 0.0/183.3 kB ? eta -:--:--\n",
      "     -- ------------------------------------- 10.2/183.3 kB ? eta -:--:--\n",
      "     -- ------------------------------------- 10.2/183.3 kB ? eta -:--:--\n",
      "     -- ------------------------------------- 10.2/183.3 kB ? eta -:--:--\n",
      "     ------ ------------------------------ 30.7/183.3 kB 163.8 kB/s eta 0:00:01\n",
      "     ------ ------------------------------ 30.7/183.3 kB 163.8 kB/s eta 0:00:01\n",
      "     ------ ------------------------------ 30.7/183.3 kB 163.8 kB/s eta 0:00:01\n",
      "     ------ ------------------------------ 30.7/183.3 kB 163.8 kB/s eta 0:00:01\n",
      "     ------ ------------------------------ 30.7/183.3 kB 163.8 kB/s eta 0:00:01\n",
      "     ------ ------------------------------ 30.7/183.3 kB 163.8 kB/s eta 0:00:01\n",
      "     ------ ------------------------------ 30.7/183.3 kB 163.8 kB/s eta 0:00:01\n",
      "     ------ ------------------------------ 30.7/183.3 kB 163.8 kB/s eta 0:00:01\n",
      "     ------ ------------------------------ 30.7/183.3 kB 163.8 kB/s eta 0:00:01\n",
      "     ------ ------------------------------ 30.7/183.3 kB 163.8 kB/s eta 0:00:01\n",
      "     -------- ----------------------------- 41.0/183.3 kB 50.4 kB/s eta 0:00:03\n",
      "     -------- ----------------------------- 41.0/183.3 kB 50.4 kB/s eta 0:00:03\n",
      "     ---------------------- ------------- 112.6/183.3 kB 152.4 kB/s eta 0:00:01\n",
      "     ---------------------- ------------- 112.6/183.3 kB 152.4 kB/s eta 0:00:01\n",
      "     ---------------------------- ------- 143.4/183.3 kB 173.8 kB/s eta 0:00:01\n",
      "     ---------------------------- ------- 143.4/183.3 kB 173.8 kB/s eta 0:00:01\n",
      "     ---------------------------- ------- 143.4/183.3 kB 173.8 kB/s eta 0:00:01\n",
      "     ------------------------------ ----- 153.6/183.3 kB 155.5 kB/s eta 0:00:01\n",
      "     ------------------------------ ----- 153.6/183.3 kB 155.5 kB/s eta 0:00:01\n",
      "     ------------------------------ ----- 153.6/183.3 kB 155.5 kB/s eta 0:00:01\n",
      "     ------------------------------ ----- 153.6/183.3 kB 155.5 kB/s eta 0:00:01\n",
      "     ------------------------------ ----- 153.6/183.3 kB 155.5 kB/s eta 0:00:01\n",
      "     ------------------------------ ----- 153.6/183.3 kB 155.5 kB/s eta 0:00:01\n",
      "     ------------------------------------ 183.3/183.3 kB 140.2 kB/s eta 0:00:00\n",
      "  Installing build dependencies: started\n",
      "  Installing build dependencies: finished with status 'done'\n",
      "  Getting requirements to build wheel: started\n",
      "  Getting requirements to build wheel: finished with status 'done'\n",
      "  Installing backend dependencies: started\n",
      "  Installing backend dependencies: finished with status 'done'\n",
      "  Preparing metadata (pyproject.toml): started\n",
      "  Preparing metadata (pyproject.toml): finished with status 'done'\n",
      "Collecting neotime~=1.7.1 (from neo4j-driver==1.7.6)\n",
      "  Downloading neotime-1.7.4.tar.gz (17 kB)\n",
      "  Installing build dependencies: started\n",
      "  Installing build dependencies: finished with status 'done'\n",
      "  Getting requirements to build wheel: started\n",
      "  Getting requirements to build wheel: finished with status 'done'\n",
      "  Installing backend dependencies: started\n",
      "  Installing backend dependencies: finished with status 'done'\n",
      "  Preparing metadata (pyproject.toml): started\n",
      "  Preparing metadata (pyproject.toml): finished with status 'done'\n",
      "Requirement already satisfied: pytz in c:\\users\\huguobin\\desktop\\gbhucode\\gbhuneo4j\\movies-python-bolt\\.venv\\lib\\site-packages (from neotime~=1.7.1->neo4j-driver==1.7.6) (2024.1)\n",
      "Requirement already satisfied: six in c:\\users\\huguobin\\desktop\\gbhucode\\gbhuneo4j\\movies-python-bolt\\.venv\\lib\\site-packages (from neotime~=1.7.1->neo4j-driver==1.7.6) (1.16.0)\n",
      "Building wheels for collected packages: neo4j-driver, neobolt, neotime\n",
      "  Building wheel for neo4j-driver (pyproject.toml): started\n",
      "  Building wheel for neo4j-driver (pyproject.toml): finished with status 'done'\n",
      "  Created wheel for neo4j-driver: filename=neo4j_driver-1.7.6-py3-none-any.whl size=32639 sha256=782eca0b941953e5e91b124499e543d9495a9a52a01d38b801826c6f92189d9d\n",
      "  Stored in directory: c:\\users\\huguobin\\appdata\\local\\pip\\cache\\wheels\\09\\68\\2b\\fdc98933c64886e37def8ede490fd48a190b50340948769ba8\n",
      "  Building wheel for neobolt (pyproject.toml): started\n",
      "  Building wheel for neobolt (pyproject.toml): finished with status 'done'\n",
      "  Created wheel for neobolt: filename=neobolt-1.7.17-py3-none-any.whl size=37174 sha256=86401f7710b93ad4e9e53912d50b9ab2c3ee1e7eaf8d18337c618c481b61973c\n",
      "  Stored in directory: c:\\users\\huguobin\\appdata\\local\\pip\\cache\\wheels\\f3\\86\\66\\faab2d0d10bb77d82ebd6810dae20fd0866f84d99a6ae86019\n",
      "  Building wheel for neotime (pyproject.toml): started\n",
      "  Building wheel for neotime (pyproject.toml): finished with status 'done'\n",
      "  Created wheel for neotime: filename=neotime-1.7.4-py3-none-any.whl size=20562 sha256=30e53f646f1ed691086924da6f0f94f9ced281ec94165db6ddd24af886263973\n",
      "  Stored in directory: c:\\users\\huguobin\\appdata\\local\\pip\\cache\\wheels\\31\\cf\\5a\\d8e1e0c7910917c9f592a7e16782a40ae6130d7e4d55352f4c\n",
      "Successfully built neo4j-driver neobolt neotime\n",
      "Installing collected packages: neobolt, neotime, neo4j-driver\n",
      "Successfully installed neo4j-driver-1.7.6 neobolt-1.7.17 neotime-1.7.4\n"
     ]
    }
   ],
   "source": [
    "#!pip install neo4j-driver==1.7.6"
   ]
  },
  {
   "cell_type": "code",
   "execution_count": 6,
   "metadata": {},
   "outputs": [],
   "source": [
    "from neo4j import GraphDatabase"
   ]
  },
  {
   "cell_type": "markdown",
   "metadata": {},
   "source": [
    "# 简单示例"
   ]
  },
  {
   "cell_type": "code",
   "execution_count": 3,
   "metadata": {},
   "outputs": [],
   "source": [
    "# 创建连接\n",
    "url = \"bolt://localhost:7687\"\n",
    "username = \"neo4j\"\n",
    "password = \"password\"\n",
    "# 高版本neo4j 会报错\n",
    "# neo4j 4.1.0 测试通过\n",
    "driver = GraphDatabase.driver(url, auth=(username, password), encrypted=False)"
   ]
  },
  {
   "cell_type": "code",
   "execution_count": 12,
   "metadata": {},
   "outputs": [],
   "source": [
    "# 简单create测试\n",
    "with driver.session() as session:\n",
    "    session.run(\n",
    "        \"\"\"\n",
    "create (a:etl {name:$name, age:$age})\n",
    "\"\"\",\n",
    "        age=30,\n",
    "        name=\"Andy\",\n",
    "    )\n"
   ]
  },
  {
   "cell_type": "code",
   "execution_count": 20,
   "metadata": {},
   "outputs": [
    {
     "name": "stdout",
     "output_type": "stream",
     "text": [
      "<Node id=0 labels={'etl'} properties={'name': 'Andy', 'age': 30}>\n"
     ]
    }
   ],
   "source": [
    "# 简单match测试\n",
    "with driver.session() as session:\n",
    "    result = session.run(\n",
    "        \"\"\"MATCH (a:etl) RETURN a\"\"\"\n",
    "    )\n",
    "    for record in result:\n",
    "        print(record[\"a\"])"
   ]
  },
  {
   "cell_type": "code",
   "execution_count": 21,
   "metadata": {},
   "outputs": [
    {
     "name": "stdout",
     "output_type": "stream",
     "text": [
      "<Node id=0 labels={'etl'} properties={'name': 'Andy', 'age': 30}>\n"
     ]
    }
   ],
   "source": [
    "# Transaction functions\n",
    "# 文档推荐的写法,可以分离我们的 数据查询 和 应用逻辑\n",
    "\n",
    "# 首先封装我们的查询sql\n",
    "def create_person_node(tx, name):\n",
    "    return tx.run(\"\"\"MATCH (a:etl{name:$name}) RETURN a\"\"\"\n",
    "                  , name=name\n",
    "                  ).single().value()\n",
    "# 调用\n",
    "with driver.session() as session:\n",
    "    # Caller for transactional unit of work\n",
    "    res=session.write_transaction(create_person_node, \"Andy\")\n",
    "    print(res)"
   ]
  },
  {
   "cell_type": "markdown",
   "metadata": {},
   "source": [
    "# 优雅的封装"
   ]
  },
  {
   "cell_type": "code",
   "execution_count": 9,
   "metadata": {},
   "outputs": [],
   "source": [
    "class Neo4jHandler(object):\n",
    "    \"\"\"\n",
    "    内部封装了逻辑，外部直接调用\n",
    "    \"\"\"\n",
    "\n",
    "    def __init__(self, uri, user, password):\n",
    "        # private driver\n",
    "        self._driver = GraphDatabase.driver(uri, auth=(user, password), encrypted=False)\n",
    "\n",
    "    def close(self):\n",
    "        self._driver.close()\n",
    "\n",
    "    # 执行自定义cql\n",
    "    def run_cql(self, cql_str, **args):\n",
    "        with self._driver.session() as session:\n",
    "            return session.run(cql_str, **args)\n",
    "\n",
    "    # 创建节点 create_etl_node+_create_etl_node\n",
    "    def create_etl_node(self, **args):\n",
    "        with self._driver.session() as session:\n",
    "            return session.write_transaction(self._create_etl_node, **args)\n",
    "\n",
    "    # 必须加staticmethod\n",
    "    @staticmethod\n",
    "    def _create_etl_node(tx, **args):\n",
    "        return (\n",
    "            tx.run(\n",
    "                \"\"\" create (a:etl {name:$name}) RETURN a\"\"\",\n",
    "                **args\n",
    "            )\n",
    "            .single()\n",
    "            .value()\n",
    "        )\n",
    "    # def get_etl"
   ]
  },
  {
   "cell_type": "markdown",
   "metadata": {},
   "source": [
    "# 示例"
   ]
  },
  {
   "cell_type": "code",
   "execution_count": 3,
   "metadata": {},
   "outputs": [],
   "source": [
    "# [a,b] 表示 由 a 表生成 b 表\n",
    "etl_table=[\n",
    "    [\"ENTENTPRBSCINFO\",\"ENTENTPRBSCINFOHFS\"],\n",
    "    [\"ENTENTPRBSCINFO\",\"ENTENTPRBSCINFOTMP\"],\n",
    "    [\"ENTENTPRINFOCHNG\",\"ENTENTPRINFOCHNGTMP\"],\n",
    "    [\"ENTINDSYCMRCANLRPTBSCINFO\",\"ENTINDSYCMRCANLRPTBSCINFOHFS\"],\n",
    "    [\"ENTINDSYCMRCANLRPTBSCINFO\",\"ENTINDSYCMRCANLRPTBSCINFOFULI\"],\n",
    "    [\"ENTINDSYCMRCCHTLCOLLINFO\",\"ENTINDSYCMRCCHTLCOLLINFOHFS\"],\n",
    "    [\"ENTINDSYCMRCCHTLCOLLINFO\",\"ENTINDSYCMRCCHTLCOLLINFOTMP\"],\n",
    "    [\"ENTINDSYCMRCENTPRMNSTFINFO\",\"ENTINDSYCMRCENTPRMNSTFINFOHFS\"],\n",
    "    [\"ENTINDSYCMRCENTPRMNSTFINFO\",\"ENTINDSYCMRCENTPRMNSTFINFOTMP\"],\n",
    "    [\"ENTINDSYCMRCENTPRSHRHR\",\"ENTINDSYCMRCENTPRSHRHRHFS\"],\n",
    "    [\"ENTINDSYCMRCENTPRSHRHR\",\"ENTINDSYCMRCENTPRSHRHRTMP\"],\n",
    "    [\"ENTINDSYCMRCEOTYPLDGBSCINFOTMP\",\"ENTINDSYCMRCEOTYPLDGBSCINFOHFS\"],\n",
    "    [\"ENTINDSYCMRCEOTYPLDGBSCINFO\",\"ENTINDSYCMRCEOTYPLDGBSCINFOTMP\"],\n",
    "    [\"ENTINDSYCMRCGRNTSCP\",\"ENTINDSYCMRCGRNTSCPTMP\"],\n",
    "    [\"ENTINDSYCMRCLGLASST\",\"ENTINDSYCMRCLGLASSTSHFS\"],\n",
    "    [\"ENTINDSYCMRCLGLASST\",\"ENTINDSYCMRCLGLASSTTMP\"],\n",
    "    [\"ENTINDSYCMRCMRTGCHNGINFO\",\"ENTINDSYCMRCMRTGCHNGINFOHFS\"],\n",
    "    [\"ENTINDSYCMRCMRTGCHNGINFO\",\"ENTINDSYCMRCMRTGCHNGINFOTMP\"],\n",
    "    [\"ENTINDSYCMRCMRTGRGSTRINFO\",\",ENTINDSYCMRCMRTGRGSTRINFOHFS\"],\n",
    "    [\"ENTINDSYCMRCMRTGRGSTRINFO\",\",ENTINDSYCMRCMRTGRGSTRINFOTMP\"],\n",
    "    [\"ENTINDSYCMRCMRTGGMRTGRINFOTMP\",\",ENTINDSYCMRCMRTGGMRTGRINFOHFS\"],\n",
    "    [\"ENTINDSYCMRCMRTGGMRTGRINFO\",\",ENTINDSYCMRCMRTGGMRTGRINFOTMP\"],\n",
    "]"
   ]
  },
  {
   "cell_type": "code",
   "execution_count": 11,
   "metadata": {},
   "outputs": [],
   "source": [
    "# 去重得到节点\n",
    "etl_node=set(elem for inner_list in etl_table for elem in inner_list)\n",
    "# 关系\n",
    "etl_relation=etl_table"
   ]
  },
  {
   "cell_type": "code",
   "execution_count": 12,
   "metadata": {},
   "outputs": [],
   "source": [
    "url = \"bolt://localhost:7687\"\n",
    "username = \"neo4j\"\n",
    "password = \"password\"\n",
    "neo4j_handler=Neo4jHandler(url, username, password)"
   ]
  },
  {
   "cell_type": "code",
   "execution_count": 13,
   "metadata": {},
   "outputs": [],
   "source": [
    "from superstream import Stream\n",
    "(Stream(etl_node)\n",
    " .for_each(lambda x:neo4j_handler.create_etl_node(name=x)))"
   ]
  },
  {
   "cell_type": "code",
   "execution_count": 32,
   "metadata": {},
   "outputs": [
    {
     "data": {
      "text/plain": [
       "<Node id=12 labels={'etl'} properties={'name': 'Andy', 'age': 30}>"
      ]
     },
     "execution_count": 32,
     "metadata": {},
     "output_type": "execute_result"
    }
   ],
   "source": [
    "neo4j_handler.create_etl_node(name=\"Andy\",age=30)"
   ]
  },
  {
   "cell_type": "code",
   "execution_count": null,
   "metadata": {},
   "outputs": [],
   "source": []
  },
  {
   "cell_type": "code",
   "execution_count": 50,
   "metadata": {},
   "outputs": [
    {
     "data": {
      "text/plain": [
       "<neo4j.BoltStatementResult at 0x2bb0fc19940>"
      ]
     },
     "execution_count": 50,
     "metadata": {},
     "output_type": "execute_result"
    }
   ],
   "source": [
    "# 执行自定义 cql\n",
    "neo4j_handler.run_cql(\n",
    "    \"CREATE (a:Person {name: $name})\",\n",
    "    name=\"Andy\",\n",
    ")"
   ]
  }
 ],
 "metadata": {
  "kernelspec": {
   "display_name": ".venv",
   "language": "python",
   "name": "python3"
  },
  "language_info": {
   "codemirror_mode": {
    "name": "ipython",
    "version": 3
   },
   "file_extension": ".py",
   "mimetype": "text/x-python",
   "name": "python",
   "nbconvert_exporter": "python",
   "pygments_lexer": "ipython3",
   "version": "3.12.1"
  }
 },
 "nbformat": 4,
 "nbformat_minor": 2
}

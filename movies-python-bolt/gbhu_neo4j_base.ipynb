{
 "cells": [
  {
   "cell_type": "code",
   "execution_count": 1,
   "metadata": {},
   "outputs": [],
   "source": [
    "from neo4j import GraphDatabase, basic_auth"
   ]
  },
  {
   "cell_type": "markdown",
   "metadata": {},
   "source": [
    "参考：https://neo4j.com/docs/python-manual/current/query-simple/\n",
    "\n",
    "> neo4j 5.x 使用 driver.execute_query 执行 cql"
   ]
  },
  {
   "cell_type": "markdown",
   "metadata": {},
   "source": [
    "连接到 neo4j"
   ]
  },
  {
   "cell_type": "code",
   "execution_count": 1,
   "metadata": {},
   "outputs": [],
   "source": [
    "# 连接示例1\n",
    "url=\"bolt://localhost:7687\"\n",
    "username='neo4j'\n",
    "password='password'\n",
    "driver = GraphDatabase.driver(url, auth=basic_auth(username, password))"
   ]
  },
  {
   "cell_type": "code",
   "execution_count": null,
   "metadata": {},
   "outputs": [],
   "source": [
    "# 连接示例2\n",
    "URI = \"bolt://localhost:7687\"\n",
    "AUTH = (\"neo4j\", \"password\")\n",
    "with GraphDatabase.driver(URI, auth=AUTH) as driver:\n",
    "    try:\n",
    "        # 业务逻辑\n",
    "        pass\n",
    "    except Exception as e:\n",
    "        print(e)"
   ]
  },
  {
   "cell_type": "markdown",
   "metadata": {},
   "source": [
    "创建节点\n",
    "\n",
    "执行 merge 语句"
   ]
  },
  {
   "cell_type": "code",
   "execution_count": 4,
   "metadata": {},
   "outputs": [
    {
     "name": "stdout",
     "output_type": "stream",
     "text": [
      "Created 1 nodes in 16 ms.\n"
     ]
    }
   ],
   "source": [
    "# driver.execute_query 返回 records, summary, key\n",
    "# records 是查询结果\n",
    "# summary 是查询的统计信息\n",
    "# key\n",
    "summary = driver.execute_query(\n",
    "    \"MERGE (:Person {name: $name, age: $age})\",\n",
    "    name=\"Alice\",\n",
    "    age=25,\n",
    "    # 最好显示指定数据库，使驱动程序可以更高效地工作\n",
    "    database_=\"neo4j\",\n",
    ").summary\n",
    "print(\"Created {nodes_created} nodes in {time} ms.\".format(\n",
    "    nodes_created=summary.counters.nodes_created,\n",
    "    time=summary.result_available_after\n",
    "))"
   ]
  },
  {
   "cell_type": "markdown",
   "metadata": {},
   "source": [
    "执行查询语句"
   ]
  },
  {
   "cell_type": "code",
   "execution_count": 7,
   "metadata": {},
   "outputs": [
    {
     "name": "stdout",
     "output_type": "stream",
     "text": [
      "{'p': {'name': 'Alice', 'age': 25}}\n",
      "The query `\n",
      "    MATCH (p:Person {name: $name})\n",
      "    where p.age = $age\n",
      "    RETURN p\n",
      "    ` returned 1 records in 26 ms.\n"
     ]
    }
   ],
   "source": [
    "# driver.execute_query 返回 records, summary, key\n",
    "# records 是查询结果\n",
    "# summary 是查询的统计信息\n",
    "# key\n",
    "records, summary, keys = driver.execute_query(\"\"\"\n",
    "    MATCH (p:Person {name: $name})\n",
    "    where p.age = $age\n",
    "    RETURN p\n",
    "    \"\"\",\n",
    "    name=\"Alice\",\n",
    "    age=25,\n",
    "    database_=\"neo4j\",\n",
    ")\n",
    "# Loop through results and do something with them\n",
    "for record in records:\n",
    "    print(record.data())  # obtain record as dict\n",
    "\n",
    "# 统计信息\n",
    "print(\"The query `{query}` returned {records_count} records in {time} ms.\".format(\n",
    "    # 查询语句\n",
    "    query=summary.query,\n",
    "    # 返回的记录数\n",
    "    records_count=len(records),\n",
    "    # 查询时间\n",
    "    time=summary.result_available_after,\n",
    "))"
   ]
  },
  {
   "cell_type": "markdown",
   "metadata": {},
   "source": [
    "查询语句-在字典中传递查询参数"
   ]
  },
  {
   "cell_type": "code",
   "execution_count": 8,
   "metadata": {},
   "outputs": [
    {
     "name": "stdout",
     "output_type": "stream",
     "text": [
      "{'p': {'name': 'Alice', 'age': 25}}\n"
     ]
    }
   ],
   "source": [
    "parameters = {\n",
    "    \"name\": \"Alice\",\n",
    "    \"age\": 25\n",
    "}\n",
    "driver.execute_query(\n",
    "    \"MERGE (:Person {name: $name})\",\n",
    "    # 传递参数\n",
    "    parameters_=parameters,\n",
    "    database_=\"neo4j\",\n",
    ")\n",
    "# Loop through results and do something with them\n",
    "for record in records:\n",
    "    print(record.data())  # obtain record as dict"
   ]
  },
  {
   "cell_type": "code",
   "execution_count": 8,
   "metadata": {},
   "outputs": [],
   "source": [
    "def runCql(cql, **kwargs):\n",
    "    with driver.session() as session:\n",
    "        data=session.run(cql, **kwargs)\n",
    "    return data"
   ]
  }
 ],
 "metadata": {
  "kernelspec": {
   "display_name": ".venv",
   "language": "python",
   "name": "python3"
  },
  "language_info": {
   "codemirror_mode": {
    "name": "ipython",
    "version": 3
   },
   "file_extension": ".py",
   "mimetype": "text/x-python",
   "name": "python",
   "nbconvert_exporter": "python",
   "pygments_lexer": "ipython3",
   "version": "3.11.4"
  }
 },
 "nbformat": 4,
 "nbformat_minor": 2
}
